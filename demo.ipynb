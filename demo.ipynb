{
 "cells": [
  {
   "cell_type": "markdown",
   "metadata": {},
   "source": [
    "# Demo Notebook for pyNmie"
   ]
  },
  {
   "cell_type": "code",
   "execution_count": 1,
   "metadata": {},
   "outputs": [],
   "source": [
    "# Import modules\n",
    "import numpy as np\n",
    "import NMie as nmie\n",
    "import matplotlib.pyplot as plt"
   ]
  },
  {
   "cell_type": "code",
   "execution_count": 9,
   "metadata": {},
   "outputs": [],
   "source": [
    "# Define Wavelength range for calculation\n",
    "wl_sh = 300\n",
    "wl_lo = 900\n",
    "nums = 101\n",
    "wavelength = np.linspace(wl_sh,wl_lo,nums)"
   ]
  },
  {
   "cell_type": "markdown",
   "metadata": {},
   "source": [
    "Define the core-shell particle\n",
    "\n",
    "20nm Ag Core with 10nm Au shell immersed in water"
   ]
  },
  {
   "cell_type": "code",
   "execution_count": 10,
   "metadata": {},
   "outputs": [],
   "source": [
    "dAg = 20 # Diameter of Ag core\n",
    "nAg = 0.051585+1j*3.9046 # @587.6nm\n",
    "dAu = 10 # Thickness of Au shell\n",
    "nAu = 0.27732+1j*2.9278 # @587.6nm\n",
    "nH2O = 1.3325 # @587.6nm"
   ]
  },
  {
   "cell_type": "markdown",
   "metadata": {},
   "source": [
    "Refractive indices must have same shape as wavelength\n"
   ]
  },
  {
   "cell_type": "code",
   "execution_count": 11,
   "metadata": {},
   "outputs": [],
   "source": [
    "nAg *=np.ones(np.shape(wavelength))\n",
    "nAu *=np.ones(np.shape(wavelength))\n",
    "nH2O*=np.ones(np.shape(wavelength))"
   ]
  },
  {
   "cell_type": "markdown",
   "metadata": {},
   "source": [
    "Pack the diameters and refractive indices\n",
    "\n",
    "diameter list has 1(core) + NUMBER_OF_SHELLS elements\n",
    "\n",
    "d = [d_core, d_shell1, d_shell2, ..., d_shellN]\n",
    "\n",
    "Refractive index tuple 1(core) + NUMBER_OF_SHELLS + 1(ambient) elements\n",
    "\n",
    "n = [n_core, n_shell1, n_shell2, ..., n_shellN, n_ambient]"
   ]
  },
  {
   "cell_type": "code",
   "execution_count": 12,
   "metadata": {},
   "outputs": [],
   "source": [
    "dias = [dAg,dAu]\n",
    "n = [nAg, nAu, nH2O]"
   ]
  },
  {
   "cell_type": "markdown",
   "metadata": {},
   "source": [
    "Define the particle as NMie class with the necessary inputs"
   ]
  },
  {
   "cell_type": "code",
   "execution_count": 13,
   "metadata": {},
   "outputs": [],
   "source": [
    "particle = nmie.NMie(diameters = dias, refind = n, wl = wavelength)"
   ]
  },
  {
   "cell_type": "markdown",
   "metadata": {},
   "source": [
    "The class elements NMie.qsca, NMie.qabs and NMie.qext hold the scattering, absorption and extinction cross sections\n",
    "\n",
    "Furthermore, the electric and magnetic contributions to the respective cross sections can be accessed.\n",
    "The arrays:\n",
    "- NMie.qsca_el, NMie.qabs_el, NMie.qext_el\n",
    "- NMie.qsca_ma, NMie.qabs_ma and NMie.qext_ma\n",
    "hold the electric and magnetic modes.\n",
    "\n",
    "e.g. the electric dipole and quadropole modes of the scattering cross section can be accesses by\n",
    "- electric_dipole_mode = NMie.qsca_el[:,0]\n",
    "- electric_quadrupole_mode = NMie.qsca_el[:,1]\n",
    "\n",
    "The same holds for the magnetic modes and the other cross sections"
   ]
  },
  {
   "cell_type": "code",
   "execution_count": 14,
   "metadata": {},
   "outputs": [
    {
     "data": {
      "text/plain": [
       "[<matplotlib.lines.Line2D at 0x7f5a0fb153d0>]"
      ]
     },
     "execution_count": 14,
     "metadata": {},
     "output_type": "execute_result"
    },
    {
     "data": {
      "image/png": "[encoded data removed]",
      "text/plain": [
       "<Figure size 432x288 with 3 Axes>"
      ]
     },
     "metadata": {
      "needs_background": "light"
     },
     "output_type": "display_data"
    }
   ],
   "source": [
    "fig,axs = plt.subplots(nrows = 1, ncols = 3)\n",
    "ax = axs[0]\n",
    "ax.plot(wavelength, particle.qsca, color = 'C0', label = 'Scattering Cross Section')"
   ]
  },
  {
   "cell_type": "code",
   "execution_count": null,
   "metadata": {},
   "outputs": [],
   "source": []
  },
  {
   "cell_type": "code",
   "execution_count": null,
   "metadata": {},
   "outputs": [],
   "source": []
  }
 ],
 "metadata": {
  "interpreter": {
   "hash": "916dbcbb3f70747c44a77c7bcd40155683ae19c65e1c03b4aa3499c5328201f1"
  },
  "kernelspec": {
   "display_name": "Python 3.8.10 64-bit",
   "language": "python",
   "name": "python3"
  },
  "language_info": {
   "codemirror_mode": {
    "name": "ipython",
    "version": 3
   },
   "file_extension": ".py",
   "mimetype": "text/x-python",
   "name": "python",
   "nbconvert_exporter": "python",
   "pygments_lexer": "ipython3",
   "version": "3.8.10"
  },
  "orig_nbformat": 4
 },
 "nbformat": 4,
 "nbformat_minor": 2
}
